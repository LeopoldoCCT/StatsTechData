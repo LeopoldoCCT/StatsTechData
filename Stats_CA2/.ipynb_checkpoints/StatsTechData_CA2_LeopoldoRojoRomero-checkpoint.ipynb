{
 "cells": [
  {
   "cell_type": "markdown",
   "id": "1d7d6831",
   "metadata": {},
   "source": [
    "## StatsTechData_CA2"
   ]
  },
  {
   "cell_type": "code",
   "execution_count": 50,
   "id": "1c78bb3d",
   "metadata": {},
   "outputs": [],
   "source": [
    "# Libraries\n",
    "import pandas as pd\n",
    "import numpy as np\n",
    "import seaborn as sns\n",
    "import matplotlib.pyplot as plt\n",
    "from scipy import stats\n",
    "from statsmodels.stats.weightstats import ztest as zt\n",
    "from scipy.stats import chi2_contingency\n",
    "from scipy.stats import f_oneway\n",
    "from statsmodels.stats.multicomp import pairwise_tukeyhsd\n",
    "from pydataset import data\n",
    "from scipy.stats import pearsonr\n",
    "import warnings\n",
    "warnings.simplefilter('ignore')"
   ]
  },
  {
   "cell_type": "markdown",
   "id": "565cbcf0",
   "metadata": {},
   "source": [
    "### Task 1:\n",
    "Load the dataset Q1.csv. It contains the exam scores (in percentages) of a sample of 50 students from a Dublin secondary school. \n",
    "- Find and comment on important summary statistics and produce an appropriate plot to summarise the dataset. \n",
    "- One of the teachers is concerned about the performance of the students in the school. She suspects that their performance may be below the reported national average of 70%. Does the data show that her concerns are justified? Use a significance level of alpha = 0.05. \n",
    "- Produce and comment on an appropriate plot to illustrate your findings. \n",
    "\n",
    "Marks[25]\n"
   ]
  },
  {
   "cell_type": "code",
   "execution_count": 2,
   "id": "171122a8",
   "metadata": {},
   "outputs": [
    {
     "data": {
      "text/html": [
       "<div>\n",
       "<style scoped>\n",
       "    .dataframe tbody tr th:only-of-type {\n",
       "        vertical-align: middle;\n",
       "    }\n",
       "\n",
       "    .dataframe tbody tr th {\n",
       "        vertical-align: top;\n",
       "    }\n",
       "\n",
       "    .dataframe thead th {\n",
       "        text-align: right;\n",
       "    }\n",
       "</style>\n",
       "<table border=\"1\" class=\"dataframe\">\n",
       "  <thead>\n",
       "    <tr style=\"text-align: right;\">\n",
       "      <th></th>\n",
       "      <th>exam_score</th>\n",
       "    </tr>\n",
       "  </thead>\n",
       "  <tbody>\n",
       "    <tr>\n",
       "      <th>0</th>\n",
       "      <td>74.54</td>\n",
       "    </tr>\n",
       "    <tr>\n",
       "      <th>1</th>\n",
       "      <td>66.20</td>\n",
       "    </tr>\n",
       "    <tr>\n",
       "      <th>2</th>\n",
       "      <td>86.75</td>\n",
       "    </tr>\n",
       "    <tr>\n",
       "      <th>3</th>\n",
       "      <td>70.87</td>\n",
       "    </tr>\n",
       "    <tr>\n",
       "      <th>4</th>\n",
       "      <td>80.43</td>\n",
       "    </tr>\n",
       "  </tbody>\n",
       "</table>\n",
       "</div>"
      ],
      "text/plain": [
       "   exam_score\n",
       "0       74.54\n",
       "1       66.20\n",
       "2       86.75\n",
       "3       70.87\n",
       "4       80.43"
      ]
     },
     "execution_count": 2,
     "metadata": {},
     "output_type": "execute_result"
    }
   ],
   "source": [
    "df = pd.read_csv('Q1.csv') # Load the 'Q1' dataset\n",
    "df.head()"
   ]
  },
  {
   "cell_type": "code",
   "execution_count": 3,
   "id": "a8e51de0",
   "metadata": {},
   "outputs": [
    {
     "data": {
      "text/plain": [
       "(50, 1)"
      ]
     },
     "execution_count": 3,
     "metadata": {},
     "output_type": "execute_result"
    }
   ],
   "source": [
    "df.shape"
   ]
  },
  {
   "cell_type": "code",
   "execution_count": 4,
   "id": "87c1380e",
   "metadata": {},
   "outputs": [
    {
     "name": "stdout",
     "output_type": "stream",
     "text": [
      "<class 'pandas.core.frame.DataFrame'>\n",
      "RangeIndex: 50 entries, 0 to 49\n",
      "Data columns (total 1 columns):\n",
      " #   Column      Non-Null Count  Dtype  \n",
      "---  ------      --------------  -----  \n",
      " 0   exam_score  50 non-null     float64\n",
      "dtypes: float64(1)\n",
      "memory usage: 532.0 bytes\n"
     ]
    }
   ],
   "source": [
    "df.info()"
   ]
  },
  {
   "cell_type": "code",
   "execution_count": 5,
   "id": "463f577f",
   "metadata": {},
   "outputs": [
    {
     "data": {
      "text/html": [
       "<div>\n",
       "<style scoped>\n",
       "    .dataframe tbody tr th:only-of-type {\n",
       "        vertical-align: middle;\n",
       "    }\n",
       "\n",
       "    .dataframe tbody tr th {\n",
       "        vertical-align: top;\n",
       "    }\n",
       "\n",
       "    .dataframe thead th {\n",
       "        text-align: right;\n",
       "    }\n",
       "</style>\n",
       "<table border=\"1\" class=\"dataframe\">\n",
       "  <thead>\n",
       "    <tr style=\"text-align: right;\">\n",
       "      <th></th>\n",
       "      <th>exam_score</th>\n",
       "    </tr>\n",
       "  </thead>\n",
       "  <tbody>\n",
       "    <tr>\n",
       "      <th>count</th>\n",
       "      <td>50.000000</td>\n",
       "    </tr>\n",
       "    <tr>\n",
       "      <th>mean</th>\n",
       "      <td>68.735600</td>\n",
       "    </tr>\n",
       "    <tr>\n",
       "      <th>std</th>\n",
       "      <td>9.750143</td>\n",
       "    </tr>\n",
       "    <tr>\n",
       "      <th>min</th>\n",
       "      <td>48.730000</td>\n",
       "    </tr>\n",
       "    <tr>\n",
       "      <th>25%</th>\n",
       "      <td>62.040000</td>\n",
       "    </tr>\n",
       "    <tr>\n",
       "      <th>50%</th>\n",
       "      <td>68.390000</td>\n",
       "    </tr>\n",
       "    <tr>\n",
       "      <th>75%</th>\n",
       "      <td>74.630000</td>\n",
       "    </tr>\n",
       "    <tr>\n",
       "      <th>max</th>\n",
       "      <td>87.360000</td>\n",
       "    </tr>\n",
       "  </tbody>\n",
       "</table>\n",
       "</div>"
      ],
      "text/plain": [
       "       exam_score\n",
       "count   50.000000\n",
       "mean    68.735600\n",
       "std      9.750143\n",
       "min     48.730000\n",
       "25%     62.040000\n",
       "50%     68.390000\n",
       "75%     74.630000\n",
       "max     87.360000"
      ]
     },
     "execution_count": 5,
     "metadata": {},
     "output_type": "execute_result"
    }
   ],
   "source": [
    "df.describe()"
   ]
  },
  {
   "cell_type": "code",
   "execution_count": 6,
   "id": "ffa20310",
   "metadata": {},
   "outputs": [
    {
     "data": {
      "text/plain": [
       "array([74.54, 66.2 , 86.75, 70.87, 80.43, 73.16, 81.3 , 71.37, 65.35,\n",
       "       80.05, 58.06, 73.62, 55.39, 50.44, 64.6 , 67.06, 82.96, 70.01,\n",
       "       67.86, 76.02, 71.63, 87.36, 72.57, 58.55, 75.2 , 70.49, 54.41,\n",
       "       48.73, 58.43, 61.72, 68.92, 77.48, 65.17, 63.73, 66.27, 62.94,\n",
       "       65.67, 66.58, 60.37, 60.53, 70.  , 84.9 , 74.66, 85.14, 64.31,\n",
       "       61.74, 58.77, 49.62, 71.77, 83.08])"
      ]
     },
     "execution_count": 6,
     "metadata": {},
     "output_type": "execute_result"
    }
   ],
   "source": [
    "df['exam_score'].unique() # Lets take a look to our unique values on the 'exam_score' feature"
   ]
  },
  {
   "cell_type": "code",
   "execution_count": 7,
   "id": "06da6ae9",
   "metadata": {},
   "outputs": [
    {
     "data": {
      "text/plain": [
       "exam_score    0.0\n",
       "dtype: float64"
      ]
     },
     "execution_count": 7,
     "metadata": {},
     "output_type": "execute_result"
    }
   ],
   "source": [
    "df.isnull().mean()*100 # Porcentage of missing data"
   ]
  },
  {
   "cell_type": "code",
   "execution_count": 8,
   "id": "dc37bfe9",
   "metadata": {},
   "outputs": [
    {
     "data": {
      "text/plain": [
       "<matplotlib.lines.Line2D at 0x2b121fcefd0>"
      ]
     },
     "execution_count": 8,
     "metadata": {},
     "output_type": "execute_result"
    },
    {
     "data": {
      "image/png": "[encoded data removed]",
      "text/plain": [
       "<Figure size 640x480 with 1 Axes>"
      ]
     },
     "metadata": {},
     "output_type": "display_data"
    }
   ],
   "source": [
    "# Lets see the shape of our data\n",
    "sns.histplot(data=df, x='exam_score', kde=True)\n",
    "\n",
    "plt.axvline(x=df.exam_score.mean(), color='red') # Show the mean value with a red line\n",
    "plt.axvline(x=df.exam_score.median(), color='yellow') # shoe the median value with a yellow line\n"
   ]
  },
  {
   "cell_type": "markdown",
   "id": "e889e39f",
   "metadata": {},
   "source": [
    "We can observe that our data has a nice distribution while been slightly right skewed."
   ]
  },
  {
   "cell_type": "code",
   "execution_count": 9,
   "id": "bad95abf",
   "metadata": {},
   "outputs": [
    {
     "data": {
      "text/plain": [
       "<Axes: >"
      ]
     },
     "execution_count": 9,
     "metadata": {},
     "output_type": "execute_result"
    },
    {
     "data": {
      "image/png": "[encoded data removed]",
      "text/plain": [
       "<Figure size 640x480 with 1 Axes>"
      ]
     },
     "metadata": {},
     "output_type": "display_data"
    }
   ],
   "source": [
    "sns.boxplot(data=df['exam_score']) # Look for outliers"
   ]
  },
  {
   "cell_type": "markdown",
   "id": "4c9b81d8",
   "metadata": {},
   "source": [
    "With the above boxplot we notice that we do not have any outliers in our data."
   ]
  },
  {
   "cell_type": "code",
   "execution_count": 10,
   "id": "0c0abf31",
   "metadata": {},
   "outputs": [
    {
     "data": {
      "text/plain": [
       "(array([-0.91697714]), array([0.35915462]))"
      ]
     },
     "execution_count": 10,
     "metadata": {},
     "output_type": "execute_result"
    }
   ],
   "source": [
    "# Lets test the alternative hypothesis, that their performance may be below \n",
    "# the reported national average of 70%. Does the data show that her concerns are justified? \n",
    "# Use a significance level of alpha = 0.05.\n",
    "zt(df,value=70, ddof=1.0)"
   ]
  },
  {
   "cell_type": "markdown",
   "id": "d24329c7",
   "metadata": {},
   "source": [
    "### Result\n",
    "\n",
    "Since we have got a p value of 0.359 and it is not less than 0.05, we do not have sufficient evidence to reject the null hypothesis that the performance is 70%."
   ]
  },
  {
   "cell_type": "markdown",
   "id": "f7d93450",
   "metadata": {},
   "source": [
    "### Task 2:\n",
    "\n",
    "Load the diamonds dataset, and print the first 5 rows. The color variable refers to the colour of the \n",
    "diamond, with categories from “D” to “J”. Colourless diamonds are considered better than \n",
    "diamonds with a yellow tint. Diamonds from “D” to “F” are considered colourless, and diamonds \n",
    "from colour “G” to “J” are not considered colourless (that is, they have a very faint colour).\n",
    "\n",
    "- Create a new binary variable in the dataframe called “colourless” which records 1 in rows with colourless diamonds and 0 otherwise.\n",
    "- Perform an appropriate hypothesis test to determine whether there is any association between the clarity of a diamond and whether it is colourless or not. Use a significance level of alpha = 0.01.\n",
    "- Produce and comment on an appropriate plot to illustrate your findings. \n",
    "- Find and interpret 90% confidence intervals for both the mean price of colourless diamonds and the mean price of non-colourless diamonds. \n",
    "\n",
    "Marks[25]\n"
   ]
  },
  {
   "cell_type": "code",
   "execution_count": 11,
   "id": "ee6b5478",
   "metadata": {},
   "outputs": [],
   "source": [
    "diam = sns.load_dataset('diamonds', cache=True, data_home=None) # Load the 'diamonds' dataset"
   ]
  },
  {
   "cell_type": "code",
   "execution_count": 12,
   "id": "97f84b00",
   "metadata": {},
   "outputs": [
    {
     "data": {
      "text/html": [
       "<div>\n",
       "<style scoped>\n",
       "    .dataframe tbody tr th:only-of-type {\n",
       "        vertical-align: middle;\n",
       "    }\n",
       "\n",
       "    .dataframe tbody tr th {\n",
       "        vertical-align: top;\n",
       "    }\n",
       "\n",
       "    .dataframe thead th {\n",
       "        text-align: right;\n",
       "    }\n",
       "</style>\n",
       "<table border=\"1\" class=\"dataframe\">\n",
       "  <thead>\n",
       "    <tr style=\"text-align: right;\">\n",
       "      <th></th>\n",
       "      <th>carat</th>\n",
       "      <th>cut</th>\n",
       "      <th>color</th>\n",
       "      <th>clarity</th>\n",
       "      <th>depth</th>\n",
       "      <th>table</th>\n",
       "      <th>price</th>\n",
       "      <th>x</th>\n",
       "      <th>y</th>\n",
       "      <th>z</th>\n",
       "    </tr>\n",
       "  </thead>\n",
       "  <tbody>\n",
       "    <tr>\n",
       "      <th>0</th>\n",
       "      <td>0.23</td>\n",
       "      <td>Ideal</td>\n",
       "      <td>E</td>\n",
       "      <td>SI2</td>\n",
       "      <td>61.5</td>\n",
       "      <td>55.0</td>\n",
       "      <td>326</td>\n",
       "      <td>3.95</td>\n",
       "      <td>3.98</td>\n",
       "      <td>2.43</td>\n",
       "    </tr>\n",
       "    <tr>\n",
       "      <th>1</th>\n",
       "      <td>0.21</td>\n",
       "      <td>Premium</td>\n",
       "      <td>E</td>\n",
       "      <td>SI1</td>\n",
       "      <td>59.8</td>\n",
       "      <td>61.0</td>\n",
       "      <td>326</td>\n",
       "      <td>3.89</td>\n",
       "      <td>3.84</td>\n",
       "      <td>2.31</td>\n",
       "    </tr>\n",
       "    <tr>\n",
       "      <th>2</th>\n",
       "      <td>0.23</td>\n",
       "      <td>Good</td>\n",
       "      <td>E</td>\n",
       "      <td>VS1</td>\n",
       "      <td>56.9</td>\n",
       "      <td>65.0</td>\n",
       "      <td>327</td>\n",
       "      <td>4.05</td>\n",
       "      <td>4.07</td>\n",
       "      <td>2.31</td>\n",
       "    </tr>\n",
       "    <tr>\n",
       "      <th>3</th>\n",
       "      <td>0.29</td>\n",
       "      <td>Premium</td>\n",
       "      <td>I</td>\n",
       "      <td>VS2</td>\n",
       "      <td>62.4</td>\n",
       "      <td>58.0</td>\n",
       "      <td>334</td>\n",
       "      <td>4.20</td>\n",
       "      <td>4.23</td>\n",
       "      <td>2.63</td>\n",
       "    </tr>\n",
       "    <tr>\n",
       "      <th>4</th>\n",
       "      <td>0.31</td>\n",
       "      <td>Good</td>\n",
       "      <td>J</td>\n",
       "      <td>SI2</td>\n",
       "      <td>63.3</td>\n",
       "      <td>58.0</td>\n",
       "      <td>335</td>\n",
       "      <td>4.34</td>\n",
       "      <td>4.35</td>\n",
       "      <td>2.75</td>\n",
       "    </tr>\n",
       "  </tbody>\n",
       "</table>\n",
       "</div>"
      ],
      "text/plain": [
       "   carat      cut color clarity  depth  table  price     x     y     z\n",
       "0   0.23    Ideal     E     SI2   61.5   55.0    326  3.95  3.98  2.43\n",
       "1   0.21  Premium     E     SI1   59.8   61.0    326  3.89  3.84  2.31\n",
       "2   0.23     Good     E     VS1   56.9   65.0    327  4.05  4.07  2.31\n",
       "3   0.29  Premium     I     VS2   62.4   58.0    334  4.20  4.23  2.63\n",
       "4   0.31     Good     J     SI2   63.3   58.0    335  4.34  4.35  2.75"
      ]
     },
     "execution_count": 12,
     "metadata": {},
     "output_type": "execute_result"
    }
   ],
   "source": [
    "diam.head() # Show the first 5 rows"
   ]
  },
  {
   "cell_type": "code",
   "execution_count": 13,
   "id": "9de91216",
   "metadata": {},
   "outputs": [
    {
     "data": {
      "text/plain": [
       "(53940, 10)"
      ]
     },
     "execution_count": 13,
     "metadata": {},
     "output_type": "execute_result"
    }
   ],
   "source": [
    "diam.shape"
   ]
  },
  {
   "cell_type": "code",
   "execution_count": 14,
   "id": "95d081d4",
   "metadata": {},
   "outputs": [
    {
     "name": "stdout",
     "output_type": "stream",
     "text": [
      "<class 'pandas.core.frame.DataFrame'>\n",
      "RangeIndex: 53940 entries, 0 to 53939\n",
      "Data columns (total 10 columns):\n",
      " #   Column   Non-Null Count  Dtype   \n",
      "---  ------   --------------  -----   \n",
      " 0   carat    53940 non-null  float64 \n",
      " 1   cut      53940 non-null  category\n",
      " 2   color    53940 non-null  category\n",
      " 3   clarity  53940 non-null  category\n",
      " 4   depth    53940 non-null  float64 \n",
      " 5   table    53940 non-null  float64 \n",
      " 6   price    53940 non-null  int64   \n",
      " 7   x        53940 non-null  float64 \n",
      " 8   y        53940 non-null  float64 \n",
      " 9   z        53940 non-null  float64 \n",
      "dtypes: category(3), float64(6), int64(1)\n",
      "memory usage: 3.0 MB\n"
     ]
    }
   ],
   "source": [
    "diam.info()"
   ]
  },
  {
   "cell_type": "code",
   "execution_count": 15,
   "id": "b387777b",
   "metadata": {},
   "outputs": [
    {
     "data": {
      "text/html": [
       "<div>\n",
       "<style scoped>\n",
       "    .dataframe tbody tr th:only-of-type {\n",
       "        vertical-align: middle;\n",
       "    }\n",
       "\n",
       "    .dataframe tbody tr th {\n",
       "        vertical-align: top;\n",
       "    }\n",
       "\n",
       "    .dataframe thead th {\n",
       "        text-align: right;\n",
       "    }\n",
       "</style>\n",
       "<table border=\"1\" class=\"dataframe\">\n",
       "  <thead>\n",
       "    <tr style=\"text-align: right;\">\n",
       "      <th></th>\n",
       "      <th>carat</th>\n",
       "      <th>depth</th>\n",
       "      <th>table</th>\n",
       "      <th>price</th>\n",
       "      <th>x</th>\n",
       "      <th>y</th>\n",
       "      <th>z</th>\n",
       "    </tr>\n",
       "  </thead>\n",
       "  <tbody>\n",
       "    <tr>\n",
       "      <th>count</th>\n",
       "      <td>53940.000000</td>\n",
       "      <td>53940.000000</td>\n",
       "      <td>53940.000000</td>\n",
       "      <td>53940.000000</td>\n",
       "      <td>53940.000000</td>\n",
       "      <td>53940.000000</td>\n",
       "      <td>53940.000000</td>\n",
       "    </tr>\n",
       "    <tr>\n",
       "      <th>mean</th>\n",
       "      <td>0.797940</td>\n",
       "      <td>61.749405</td>\n",
       "      <td>57.457184</td>\n",
       "      <td>3932.799722</td>\n",
       "      <td>5.731157</td>\n",
       "      <td>5.734526</td>\n",
       "      <td>3.538734</td>\n",
       "    </tr>\n",
       "    <tr>\n",
       "      <th>std</th>\n",
       "      <td>0.474011</td>\n",
       "      <td>1.432621</td>\n",
       "      <td>2.234491</td>\n",
       "      <td>3989.439738</td>\n",
       "      <td>1.121761</td>\n",
       "      <td>1.142135</td>\n",
       "      <td>0.705699</td>\n",
       "    </tr>\n",
       "    <tr>\n",
       "      <th>min</th>\n",
       "      <td>0.200000</td>\n",
       "      <td>43.000000</td>\n",
       "      <td>43.000000</td>\n",
       "      <td>326.000000</td>\n",
       "      <td>0.000000</td>\n",
       "      <td>0.000000</td>\n",
       "      <td>0.000000</td>\n",
       "    </tr>\n",
       "    <tr>\n",
       "      <th>25%</th>\n",
       "      <td>0.400000</td>\n",
       "      <td>61.000000</td>\n",
       "      <td>56.000000</td>\n",
       "      <td>950.000000</td>\n",
       "      <td>4.710000</td>\n",
       "      <td>4.720000</td>\n",
       "      <td>2.910000</td>\n",
       "    </tr>\n",
       "    <tr>\n",
       "      <th>50%</th>\n",
       "      <td>0.700000</td>\n",
       "      <td>61.800000</td>\n",
       "      <td>57.000000</td>\n",
       "      <td>2401.000000</td>\n",
       "      <td>5.700000</td>\n",
       "      <td>5.710000</td>\n",
       "      <td>3.530000</td>\n",
       "    </tr>\n",
       "    <tr>\n",
       "      <th>75%</th>\n",
       "      <td>1.040000</td>\n",
       "      <td>62.500000</td>\n",
       "      <td>59.000000</td>\n",
       "      <td>5324.250000</td>\n",
       "      <td>6.540000</td>\n",
       "      <td>6.540000</td>\n",
       "      <td>4.040000</td>\n",
       "    </tr>\n",
       "    <tr>\n",
       "      <th>max</th>\n",
       "      <td>5.010000</td>\n",
       "      <td>79.000000</td>\n",
       "      <td>95.000000</td>\n",
       "      <td>18823.000000</td>\n",
       "      <td>10.740000</td>\n",
       "      <td>58.900000</td>\n",
       "      <td>31.800000</td>\n",
       "    </tr>\n",
       "  </tbody>\n",
       "</table>\n",
       "</div>"
      ],
      "text/plain": [
       "              carat         depth         table         price             x  \\\n",
       "count  53940.000000  53940.000000  53940.000000  53940.000000  53940.000000   \n",
       "mean       0.797940     61.749405     57.457184   3932.799722      5.731157   \n",
       "std        0.474011      1.432621      2.234491   3989.439738      1.121761   \n",
       "min        0.200000     43.000000     43.000000    326.000000      0.000000   \n",
       "25%        0.400000     61.000000     56.000000    950.000000      4.710000   \n",
       "50%        0.700000     61.800000     57.000000   2401.000000      5.700000   \n",
       "75%        1.040000     62.500000     59.000000   5324.250000      6.540000   \n",
       "max        5.010000     79.000000     95.000000  18823.000000     10.740000   \n",
       "\n",
       "                  y             z  \n",
       "count  53940.000000  53940.000000  \n",
       "mean       5.734526      3.538734  \n",
       "std        1.142135      0.705699  \n",
       "min        0.000000      0.000000  \n",
       "25%        4.720000      2.910000  \n",
       "50%        5.710000      3.530000  \n",
       "75%        6.540000      4.040000  \n",
       "max       58.900000     31.800000  "
      ]
     },
     "execution_count": 15,
     "metadata": {},
     "output_type": "execute_result"
    }
   ],
   "source": [
    "diam.describe()"
   ]
  },
  {
   "cell_type": "code",
   "execution_count": 16,
   "id": "ba4f0615",
   "metadata": {},
   "outputs": [
    {
     "data": {
      "text/plain": [
       "carat      0.0\n",
       "cut        0.0\n",
       "color      0.0\n",
       "clarity    0.0\n",
       "depth      0.0\n",
       "table      0.0\n",
       "price      0.0\n",
       "x          0.0\n",
       "y          0.0\n",
       "z          0.0\n",
       "dtype: float64"
      ]
     },
     "execution_count": 16,
     "metadata": {},
     "output_type": "execute_result"
    }
   ],
   "source": [
    "diam.isnull().mean()*100 # Porcentage of missing data"
   ]
  },
  {
   "cell_type": "code",
   "execution_count": 17,
   "id": "313a2fcc",
   "metadata": {},
   "outputs": [
    {
     "data": {
      "text/plain": [
       "['E', 'I', 'J', 'H', 'F', 'G', 'D']\n",
       "Categories (7, object): ['D', 'E', 'F', 'G', 'H', 'I', 'J']"
      ]
     },
     "execution_count": 17,
     "metadata": {},
     "output_type": "execute_result"
    }
   ],
   "source": [
    "diam['color'].unique()"
   ]
  },
  {
   "cell_type": "code",
   "execution_count": 18,
   "id": "87ef8693",
   "metadata": {},
   "outputs": [
    {
     "data": {
      "text/html": [
       "<div>\n",
       "<style scoped>\n",
       "    .dataframe tbody tr th:only-of-type {\n",
       "        vertical-align: middle;\n",
       "    }\n",
       "\n",
       "    .dataframe tbody tr th {\n",
       "        vertical-align: top;\n",
       "    }\n",
       "\n",
       "    .dataframe thead th {\n",
       "        text-align: right;\n",
       "    }\n",
       "</style>\n",
       "<table border=\"1\" class=\"dataframe\">\n",
       "  <thead>\n",
       "    <tr style=\"text-align: right;\">\n",
       "      <th></th>\n",
       "      <th>carat</th>\n",
       "      <th>cut</th>\n",
       "      <th>color</th>\n",
       "      <th>clarity</th>\n",
       "      <th>depth</th>\n",
       "      <th>table</th>\n",
       "      <th>price</th>\n",
       "      <th>x</th>\n",
       "      <th>y</th>\n",
       "      <th>z</th>\n",
       "      <th>colourless</th>\n",
       "    </tr>\n",
       "  </thead>\n",
       "  <tbody>\n",
       "    <tr>\n",
       "      <th>0</th>\n",
       "      <td>0.23</td>\n",
       "      <td>Ideal</td>\n",
       "      <td>E</td>\n",
       "      <td>SI2</td>\n",
       "      <td>61.5</td>\n",
       "      <td>55.0</td>\n",
       "      <td>326</td>\n",
       "      <td>3.95</td>\n",
       "      <td>3.98</td>\n",
       "      <td>2.43</td>\n",
       "      <td>1</td>\n",
       "    </tr>\n",
       "    <tr>\n",
       "      <th>1</th>\n",
       "      <td>0.21</td>\n",
       "      <td>Premium</td>\n",
       "      <td>E</td>\n",
       "      <td>SI1</td>\n",
       "      <td>59.8</td>\n",
       "      <td>61.0</td>\n",
       "      <td>326</td>\n",
       "      <td>3.89</td>\n",
       "      <td>3.84</td>\n",
       "      <td>2.31</td>\n",
       "      <td>1</td>\n",
       "    </tr>\n",
       "    <tr>\n",
       "      <th>2</th>\n",
       "      <td>0.23</td>\n",
       "      <td>Good</td>\n",
       "      <td>E</td>\n",
       "      <td>VS1</td>\n",
       "      <td>56.9</td>\n",
       "      <td>65.0</td>\n",
       "      <td>327</td>\n",
       "      <td>4.05</td>\n",
       "      <td>4.07</td>\n",
       "      <td>2.31</td>\n",
       "      <td>1</td>\n",
       "    </tr>\n",
       "    <tr>\n",
       "      <th>3</th>\n",
       "      <td>0.29</td>\n",
       "      <td>Premium</td>\n",
       "      <td>I</td>\n",
       "      <td>VS2</td>\n",
       "      <td>62.4</td>\n",
       "      <td>58.0</td>\n",
       "      <td>334</td>\n",
       "      <td>4.20</td>\n",
       "      <td>4.23</td>\n",
       "      <td>2.63</td>\n",
       "      <td>0</td>\n",
       "    </tr>\n",
       "    <tr>\n",
       "      <th>4</th>\n",
       "      <td>0.31</td>\n",
       "      <td>Good</td>\n",
       "      <td>J</td>\n",
       "      <td>SI2</td>\n",
       "      <td>63.3</td>\n",
       "      <td>58.0</td>\n",
       "      <td>335</td>\n",
       "      <td>4.34</td>\n",
       "      <td>4.35</td>\n",
       "      <td>2.75</td>\n",
       "      <td>0</td>\n",
       "    </tr>\n",
       "    <tr>\n",
       "      <th>5</th>\n",
       "      <td>0.24</td>\n",
       "      <td>Very Good</td>\n",
       "      <td>J</td>\n",
       "      <td>VVS2</td>\n",
       "      <td>62.8</td>\n",
       "      <td>57.0</td>\n",
       "      <td>336</td>\n",
       "      <td>3.94</td>\n",
       "      <td>3.96</td>\n",
       "      <td>2.48</td>\n",
       "      <td>0</td>\n",
       "    </tr>\n",
       "    <tr>\n",
       "      <th>6</th>\n",
       "      <td>0.24</td>\n",
       "      <td>Very Good</td>\n",
       "      <td>I</td>\n",
       "      <td>VVS1</td>\n",
       "      <td>62.3</td>\n",
       "      <td>57.0</td>\n",
       "      <td>336</td>\n",
       "      <td>3.95</td>\n",
       "      <td>3.98</td>\n",
       "      <td>2.47</td>\n",
       "      <td>0</td>\n",
       "    </tr>\n",
       "    <tr>\n",
       "      <th>7</th>\n",
       "      <td>0.26</td>\n",
       "      <td>Very Good</td>\n",
       "      <td>H</td>\n",
       "      <td>SI1</td>\n",
       "      <td>61.9</td>\n",
       "      <td>55.0</td>\n",
       "      <td>337</td>\n",
       "      <td>4.07</td>\n",
       "      <td>4.11</td>\n",
       "      <td>2.53</td>\n",
       "      <td>0</td>\n",
       "    </tr>\n",
       "    <tr>\n",
       "      <th>8</th>\n",
       "      <td>0.22</td>\n",
       "      <td>Fair</td>\n",
       "      <td>E</td>\n",
       "      <td>VS2</td>\n",
       "      <td>65.1</td>\n",
       "      <td>61.0</td>\n",
       "      <td>337</td>\n",
       "      <td>3.87</td>\n",
       "      <td>3.78</td>\n",
       "      <td>2.49</td>\n",
       "      <td>1</td>\n",
       "    </tr>\n",
       "    <tr>\n",
       "      <th>9</th>\n",
       "      <td>0.23</td>\n",
       "      <td>Very Good</td>\n",
       "      <td>H</td>\n",
       "      <td>VS1</td>\n",
       "      <td>59.4</td>\n",
       "      <td>61.0</td>\n",
       "      <td>338</td>\n",
       "      <td>4.00</td>\n",
       "      <td>4.05</td>\n",
       "      <td>2.39</td>\n",
       "      <td>0</td>\n",
       "    </tr>\n",
       "    <tr>\n",
       "      <th>10</th>\n",
       "      <td>0.30</td>\n",
       "      <td>Good</td>\n",
       "      <td>J</td>\n",
       "      <td>SI1</td>\n",
       "      <td>64.0</td>\n",
       "      <td>55.0</td>\n",
       "      <td>339</td>\n",
       "      <td>4.25</td>\n",
       "      <td>4.28</td>\n",
       "      <td>2.73</td>\n",
       "      <td>0</td>\n",
       "    </tr>\n",
       "    <tr>\n",
       "      <th>11</th>\n",
       "      <td>0.23</td>\n",
       "      <td>Ideal</td>\n",
       "      <td>J</td>\n",
       "      <td>VS1</td>\n",
       "      <td>62.8</td>\n",
       "      <td>56.0</td>\n",
       "      <td>340</td>\n",
       "      <td>3.93</td>\n",
       "      <td>3.90</td>\n",
       "      <td>2.46</td>\n",
       "      <td>0</td>\n",
       "    </tr>\n",
       "    <tr>\n",
       "      <th>12</th>\n",
       "      <td>0.22</td>\n",
       "      <td>Premium</td>\n",
       "      <td>F</td>\n",
       "      <td>SI1</td>\n",
       "      <td>60.4</td>\n",
       "      <td>61.0</td>\n",
       "      <td>342</td>\n",
       "      <td>3.88</td>\n",
       "      <td>3.84</td>\n",
       "      <td>2.33</td>\n",
       "      <td>1</td>\n",
       "    </tr>\n",
       "    <tr>\n",
       "      <th>13</th>\n",
       "      <td>0.31</td>\n",
       "      <td>Ideal</td>\n",
       "      <td>J</td>\n",
       "      <td>SI2</td>\n",
       "      <td>62.2</td>\n",
       "      <td>54.0</td>\n",
       "      <td>344</td>\n",
       "      <td>4.35</td>\n",
       "      <td>4.37</td>\n",
       "      <td>2.71</td>\n",
       "      <td>0</td>\n",
       "    </tr>\n",
       "    <tr>\n",
       "      <th>14</th>\n",
       "      <td>0.20</td>\n",
       "      <td>Premium</td>\n",
       "      <td>E</td>\n",
       "      <td>SI2</td>\n",
       "      <td>60.2</td>\n",
       "      <td>62.0</td>\n",
       "      <td>345</td>\n",
       "      <td>3.79</td>\n",
       "      <td>3.75</td>\n",
       "      <td>2.27</td>\n",
       "      <td>1</td>\n",
       "    </tr>\n",
       "    <tr>\n",
       "      <th>15</th>\n",
       "      <td>0.32</td>\n",
       "      <td>Premium</td>\n",
       "      <td>E</td>\n",
       "      <td>I1</td>\n",
       "      <td>60.9</td>\n",
       "      <td>58.0</td>\n",
       "      <td>345</td>\n",
       "      <td>4.38</td>\n",
       "      <td>4.42</td>\n",
       "      <td>2.68</td>\n",
       "      <td>1</td>\n",
       "    </tr>\n",
       "    <tr>\n",
       "      <th>16</th>\n",
       "      <td>0.30</td>\n",
       "      <td>Ideal</td>\n",
       "      <td>I</td>\n",
       "      <td>SI2</td>\n",
       "      <td>62.0</td>\n",
       "      <td>54.0</td>\n",
       "      <td>348</td>\n",
       "      <td>4.31</td>\n",
       "      <td>4.34</td>\n",
       "      <td>2.68</td>\n",
       "      <td>0</td>\n",
       "    </tr>\n",
       "    <tr>\n",
       "      <th>17</th>\n",
       "      <td>0.30</td>\n",
       "      <td>Good</td>\n",
       "      <td>J</td>\n",
       "      <td>SI1</td>\n",
       "      <td>63.4</td>\n",
       "      <td>54.0</td>\n",
       "      <td>351</td>\n",
       "      <td>4.23</td>\n",
       "      <td>4.29</td>\n",
       "      <td>2.70</td>\n",
       "      <td>0</td>\n",
       "    </tr>\n",
       "    <tr>\n",
       "      <th>18</th>\n",
       "      <td>0.30</td>\n",
       "      <td>Good</td>\n",
       "      <td>J</td>\n",
       "      <td>SI1</td>\n",
       "      <td>63.8</td>\n",
       "      <td>56.0</td>\n",
       "      <td>351</td>\n",
       "      <td>4.23</td>\n",
       "      <td>4.26</td>\n",
       "      <td>2.71</td>\n",
       "      <td>0</td>\n",
       "    </tr>\n",
       "    <tr>\n",
       "      <th>19</th>\n",
       "      <td>0.30</td>\n",
       "      <td>Very Good</td>\n",
       "      <td>J</td>\n",
       "      <td>SI1</td>\n",
       "      <td>62.7</td>\n",
       "      <td>59.0</td>\n",
       "      <td>351</td>\n",
       "      <td>4.21</td>\n",
       "      <td>4.27</td>\n",
       "      <td>2.66</td>\n",
       "      <td>0</td>\n",
       "    </tr>\n",
       "  </tbody>\n",
       "</table>\n",
       "</div>"
      ],
      "text/plain": [
       "    carat        cut color clarity  depth  table  price     x     y     z  \\\n",
       "0    0.23      Ideal     E     SI2   61.5   55.0    326  3.95  3.98  2.43   \n",
       "1    0.21    Premium     E     SI1   59.8   61.0    326  3.89  3.84  2.31   \n",
       "2    0.23       Good     E     VS1   56.9   65.0    327  4.05  4.07  2.31   \n",
       "3    0.29    Premium     I     VS2   62.4   58.0    334  4.20  4.23  2.63   \n",
       "4    0.31       Good     J     SI2   63.3   58.0    335  4.34  4.35  2.75   \n",
       "5    0.24  Very Good     J    VVS2   62.8   57.0    336  3.94  3.96  2.48   \n",
       "6    0.24  Very Good     I    VVS1   62.3   57.0    336  3.95  3.98  2.47   \n",
       "7    0.26  Very Good     H     SI1   61.9   55.0    337  4.07  4.11  2.53   \n",
       "8    0.22       Fair     E     VS2   65.1   61.0    337  3.87  3.78  2.49   \n",
       "9    0.23  Very Good     H     VS1   59.4   61.0    338  4.00  4.05  2.39   \n",
       "10   0.30       Good     J     SI1   64.0   55.0    339  4.25  4.28  2.73   \n",
       "11   0.23      Ideal     J     VS1   62.8   56.0    340  3.93  3.90  2.46   \n",
       "12   0.22    Premium     F     SI1   60.4   61.0    342  3.88  3.84  2.33   \n",
       "13   0.31      Ideal     J     SI2   62.2   54.0    344  4.35  4.37  2.71   \n",
       "14   0.20    Premium     E     SI2   60.2   62.0    345  3.79  3.75  2.27   \n",
       "15   0.32    Premium     E      I1   60.9   58.0    345  4.38  4.42  2.68   \n",
       "16   0.30      Ideal     I     SI2   62.0   54.0    348  4.31  4.34  2.68   \n",
       "17   0.30       Good     J     SI1   63.4   54.0    351  4.23  4.29  2.70   \n",
       "18   0.30       Good     J     SI1   63.8   56.0    351  4.23  4.26  2.71   \n",
       "19   0.30  Very Good     J     SI1   62.7   59.0    351  4.21  4.27  2.66   \n",
       "\n",
       "   colourless  \n",
       "0           1  \n",
       "1           1  \n",
       "2           1  \n",
       "3           0  \n",
       "4           0  \n",
       "5           0  \n",
       "6           0  \n",
       "7           0  \n",
       "8           1  \n",
       "9           0  \n",
       "10          0  \n",
       "11          0  \n",
       "12          1  \n",
       "13          0  \n",
       "14          1  \n",
       "15          1  \n",
       "16          0  \n",
       "17          0  \n",
       "18          0  \n",
       "19          0  "
      ]
     },
     "execution_count": 18,
     "metadata": {},
     "output_type": "execute_result"
    }
   ],
   "source": [
    "# Diamonds from “D” to “F” are considered colourless, and diamonds from colour “G” to “J” are not considered colourless.\n",
    "# Create a new binary variable in the dataframe called “colourless” which records 1 in rows with colourless diamonds \n",
    "# and 0 otherwise.\n",
    "diam['colourless'] = diam['color'].replace(['D', 'E', 'F', 'G', 'H', 'I', 'J'], [1, 1, 1, 0, 0, 0, 0])\n",
    "diam.head(20)"
   ]
  },
  {
   "cell_type": "code",
   "execution_count": 52,
   "id": "4cd210f4",
   "metadata": {},
   "outputs": [
    {
     "data": {
      "text/html": [
       "<div>\n",
       "<style scoped>\n",
       "    .dataframe tbody tr th:only-of-type {\n",
       "        vertical-align: middle;\n",
       "    }\n",
       "\n",
       "    .dataframe tbody tr th {\n",
       "        vertical-align: top;\n",
       "    }\n",
       "\n",
       "    .dataframe thead th {\n",
       "        text-align: right;\n",
       "    }\n",
       "</style>\n",
       "<table border=\"1\" class=\"dataframe\">\n",
       "  <thead>\n",
       "    <tr style=\"text-align: right;\">\n",
       "      <th>colourless</th>\n",
       "      <th>1</th>\n",
       "      <th>0</th>\n",
       "    </tr>\n",
       "    <tr>\n",
       "      <th>clarity</th>\n",
       "      <th></th>\n",
       "      <th></th>\n",
       "    </tr>\n",
       "  </thead>\n",
       "  <tbody>\n",
       "    <tr>\n",
       "      <th>IF</th>\n",
       "      <td>616</td>\n",
       "      <td>1174</td>\n",
       "    </tr>\n",
       "    <tr>\n",
       "      <th>VVS1</th>\n",
       "      <td>1642</td>\n",
       "      <td>2013</td>\n",
       "    </tr>\n",
       "    <tr>\n",
       "      <th>VVS2</th>\n",
       "      <td>2519</td>\n",
       "      <td>2547</td>\n",
       "    </tr>\n",
       "    <tr>\n",
       "      <th>VS1</th>\n",
       "      <td>3350</td>\n",
       "      <td>4821</td>\n",
       "    </tr>\n",
       "    <tr>\n",
       "      <th>VS2</th>\n",
       "      <td>6368</td>\n",
       "      <td>5890</td>\n",
       "    </tr>\n",
       "    <tr>\n",
       "      <th>SI1</th>\n",
       "      <td>6640</td>\n",
       "      <td>6425</td>\n",
       "    </tr>\n",
       "    <tr>\n",
       "      <th>SI2</th>\n",
       "      <td>4692</td>\n",
       "      <td>4502</td>\n",
       "    </tr>\n",
       "    <tr>\n",
       "      <th>I1</th>\n",
       "      <td>287</td>\n",
       "      <td>454</td>\n",
       "    </tr>\n",
       "  </tbody>\n",
       "</table>\n",
       "</div>"
      ],
      "text/plain": [
       "colourless     1     0\n",
       "clarity               \n",
       "IF           616  1174\n",
       "VVS1        1642  2013\n",
       "VVS2        2519  2547\n",
       "VS1         3350  4821\n",
       "VS2         6368  5890\n",
       "SI1         6640  6425\n",
       "SI2         4692  4502\n",
       "I1           287   454"
      ]
     },
     "execution_count": 52,
     "metadata": {},
     "output_type": "execute_result"
    }
   ],
   "source": [
    "# Perform an appropriate hypothesis test to determine whether there is any association between \n",
    "# the clarity of a diamond and whether it is colourless or not. Use a significance level of alpha = 0.01.\n",
    "\n",
    "diam_cross = pd.crosstab(index = diam['clarity'], columns = diam['colourless'])\n",
    "diam_cross"
   ]
  },
  {
   "cell_type": "code",
   "execution_count": 60,
   "id": "38d4663e",
   "metadata": {},
   "outputs": [
    {
     "name": "stdout",
     "output_type": "stream",
     "text": [
      "p value:  6.4815871244549e-101\n"
     ]
    }
   ],
   "source": [
    "chi2 = chi2_contingency(diam_cross)\n",
    "print('p value: ',chi2.pvalue)"
   ]
  },
  {
   "cell_type": "markdown",
   "id": "c40b49d5",
   "metadata": {},
   "source": [
    "### Results\n",
    "Using a significance level of 0.01, we do not have sufficient evidence to reject the null hypothesis that there is any association between the clarity of a diamond and its color."
   ]
  },
  {
   "cell_type": "code",
   "execution_count": 75,
   "id": "f87ef589",
   "metadata": {},
   "outputs": [],
   "source": [
    "# Find and interpret 90% confidence intervals for both the mean price of colourless diamonds \n",
    "# and the mean price of non-colourless diamonds.\n",
    "\n",
    "colourless = diam[(diam.colourless == 1)]\n",
    "non_colourless = diam[(diam.colourless == 0)]"
   ]
  },
  {
   "cell_type": "code",
   "execution_count": 76,
   "id": "1d036765",
   "metadata": {},
   "outputs": [
    {
     "data": {
      "text/plain": [
       "(3301.8587895360406, 3373.6600126390376)"
      ]
     },
     "execution_count": 76,
     "metadata": {},
     "output_type": "execute_result"
    }
   ],
   "source": [
    "stats.norm.interval(alpha=0.90, loc=np.mean(colourless['price']), scale=stats.sem(colourless['price']))"
   ]
  },
  {
   "cell_type": "code",
   "execution_count": 77,
   "id": "2cd4c85d",
   "metadata": {},
   "outputs": [
    {
     "data": {
      "text/plain": [
       "(4448.779481651931, 4533.680663536023)"
      ]
     },
     "execution_count": 77,
     "metadata": {},
     "output_type": "execute_result"
    }
   ],
   "source": [
    "stats.norm.interval(alpha=0.90, loc=np.mean(non_colourless['price']), scale=stats.sem(non_colourless['price']))"
   ]
  },
  {
   "cell_type": "markdown",
   "id": "f7203d21",
   "metadata": {},
   "source": [
    "### Results\n",
    "There are 90% chances the confidence interval of each one of the results contains the true population mean.\n",
    "- Colourless 90% confidence intervals: 3301.85 - 3373.66\n",
    "- Non_colourless 90% confidence intervals: 4448.77 - 4533.68"
   ]
  },
  {
   "cell_type": "markdown",
   "id": "904abf93",
   "metadata": {},
   "source": [
    "### Task 3:\n",
    "\n",
    "Load the PlantGrowth dataset from the pydataset library. It contains the results of a small study \n",
    "comparing the yields of plants obtained under a control and under two different treatment \n",
    "conditions.\n",
    "- Find and comment on important summary statistics by treatment and produce an appropriate plot to summarise the dataset.\n",
    "- Conduct an appropriate hypothesis test to see if there is evidence of a difference between the three means (that is, the control and the two treatments). Use a significance level of alpha = 0.05. \n",
    "- If there is evidence of a difference between the three means, find and comment on where this difference may be.\n",
    "\n",
    "Marks[25]"
   ]
  },
  {
   "cell_type": "code",
   "execution_count": 19,
   "id": "1665b062",
   "metadata": {},
   "outputs": [
    {
     "data": {
      "text/html": [
       "<div>\n",
       "<style scoped>\n",
       "    .dataframe tbody tr th:only-of-type {\n",
       "        vertical-align: middle;\n",
       "    }\n",
       "\n",
       "    .dataframe tbody tr th {\n",
       "        vertical-align: top;\n",
       "    }\n",
       "\n",
       "    .dataframe thead th {\n",
       "        text-align: right;\n",
       "    }\n",
       "</style>\n",
       "<table border=\"1\" class=\"dataframe\">\n",
       "  <thead>\n",
       "    <tr style=\"text-align: right;\">\n",
       "      <th></th>\n",
       "      <th>weight</th>\n",
       "      <th>group</th>\n",
       "    </tr>\n",
       "  </thead>\n",
       "  <tbody>\n",
       "    <tr>\n",
       "      <th>1</th>\n",
       "      <td>4.17</td>\n",
       "      <td>ctrl</td>\n",
       "    </tr>\n",
       "    <tr>\n",
       "      <th>2</th>\n",
       "      <td>5.58</td>\n",
       "      <td>ctrl</td>\n",
       "    </tr>\n",
       "    <tr>\n",
       "      <th>3</th>\n",
       "      <td>5.18</td>\n",
       "      <td>ctrl</td>\n",
       "    </tr>\n",
       "    <tr>\n",
       "      <th>4</th>\n",
       "      <td>6.11</td>\n",
       "      <td>ctrl</td>\n",
       "    </tr>\n",
       "    <tr>\n",
       "      <th>5</th>\n",
       "      <td>4.50</td>\n",
       "      <td>ctrl</td>\n",
       "    </tr>\n",
       "  </tbody>\n",
       "</table>\n",
       "</div>"
      ],
      "text/plain": [
       "   weight group\n",
       "1    4.17  ctrl\n",
       "2    5.58  ctrl\n",
       "3    5.18  ctrl\n",
       "4    6.11  ctrl\n",
       "5    4.50  ctrl"
      ]
     },
     "execution_count": 19,
     "metadata": {},
     "output_type": "execute_result"
    }
   ],
   "source": [
    "plant = data('PlantGrowth') # Load the 'PlantGrowth' data set from pydataset\n",
    "plant.head()"
   ]
  },
  {
   "cell_type": "code",
   "execution_count": 20,
   "id": "ed5e25af",
   "metadata": {},
   "outputs": [
    {
     "data": {
      "text/plain": [
       "(30, 2)"
      ]
     },
     "execution_count": 20,
     "metadata": {},
     "output_type": "execute_result"
    }
   ],
   "source": [
    "plant.shape"
   ]
  },
  {
   "cell_type": "code",
   "execution_count": 21,
   "id": "9ffa7cdd",
   "metadata": {},
   "outputs": [
    {
     "name": "stdout",
     "output_type": "stream",
     "text": [
      "<class 'pandas.core.frame.DataFrame'>\n",
      "Int64Index: 30 entries, 1 to 30\n",
      "Data columns (total 2 columns):\n",
      " #   Column  Non-Null Count  Dtype  \n",
      "---  ------  --------------  -----  \n",
      " 0   weight  30 non-null     float64\n",
      " 1   group   30 non-null     object \n",
      "dtypes: float64(1), object(1)\n",
      "memory usage: 720.0+ bytes\n"
     ]
    }
   ],
   "source": [
    "plant.info()"
   ]
  },
  {
   "cell_type": "code",
   "execution_count": 22,
   "id": "579b98c2",
   "metadata": {},
   "outputs": [
    {
     "data": {
      "text/html": [
       "<div>\n",
       "<style scoped>\n",
       "    .dataframe tbody tr th:only-of-type {\n",
       "        vertical-align: middle;\n",
       "    }\n",
       "\n",
       "    .dataframe tbody tr th {\n",
       "        vertical-align: top;\n",
       "    }\n",
       "\n",
       "    .dataframe thead th {\n",
       "        text-align: right;\n",
       "    }\n",
       "</style>\n",
       "<table border=\"1\" class=\"dataframe\">\n",
       "  <thead>\n",
       "    <tr style=\"text-align: right;\">\n",
       "      <th></th>\n",
       "      <th>weight</th>\n",
       "    </tr>\n",
       "  </thead>\n",
       "  <tbody>\n",
       "    <tr>\n",
       "      <th>count</th>\n",
       "      <td>30.000000</td>\n",
       "    </tr>\n",
       "    <tr>\n",
       "      <th>mean</th>\n",
       "      <td>5.073000</td>\n",
       "    </tr>\n",
       "    <tr>\n",
       "      <th>std</th>\n",
       "      <td>0.701192</td>\n",
       "    </tr>\n",
       "    <tr>\n",
       "      <th>min</th>\n",
       "      <td>3.590000</td>\n",
       "    </tr>\n",
       "    <tr>\n",
       "      <th>25%</th>\n",
       "      <td>4.550000</td>\n",
       "    </tr>\n",
       "    <tr>\n",
       "      <th>50%</th>\n",
       "      <td>5.155000</td>\n",
       "    </tr>\n",
       "    <tr>\n",
       "      <th>75%</th>\n",
       "      <td>5.530000</td>\n",
       "    </tr>\n",
       "    <tr>\n",
       "      <th>max</th>\n",
       "      <td>6.310000</td>\n",
       "    </tr>\n",
       "  </tbody>\n",
       "</table>\n",
       "</div>"
      ],
      "text/plain": [
       "          weight\n",
       "count  30.000000\n",
       "mean    5.073000\n",
       "std     0.701192\n",
       "min     3.590000\n",
       "25%     4.550000\n",
       "50%     5.155000\n",
       "75%     5.530000\n",
       "max     6.310000"
      ]
     },
     "execution_count": 22,
     "metadata": {},
     "output_type": "execute_result"
    }
   ],
   "source": [
    "plant.describe()"
   ]
  },
  {
   "cell_type": "code",
   "execution_count": 23,
   "id": "0775c187",
   "metadata": {},
   "outputs": [
    {
     "data": {
      "text/plain": [
       "weight    0.0\n",
       "group     0.0\n",
       "dtype: float64"
      ]
     },
     "execution_count": 23,
     "metadata": {},
     "output_type": "execute_result"
    }
   ],
   "source": [
    "plant.isnull().mean()*100 # Porcentage of missing data"
   ]
  },
  {
   "cell_type": "code",
   "execution_count": 24,
   "id": "da74d74f",
   "metadata": {},
   "outputs": [
    {
     "data": {
      "text/plain": [
       "array(['ctrl', 'trt1', 'trt2'], dtype=object)"
      ]
     },
     "execution_count": 24,
     "metadata": {},
     "output_type": "execute_result"
    }
   ],
   "source": [
    "plant['group'].unique()"
   ]
  },
  {
   "cell_type": "code",
   "execution_count": 25,
   "id": "e0d27ae0",
   "metadata": {},
   "outputs": [],
   "source": [
    "# Create groups between ctrl, trt1 and trt2\n",
    "\n",
    "ctrl = plant[(plant.group == 'ctrl')]\n",
    "trt1 = plant[(plant.group == 'trt1')]\n",
    "trt2 = plant[(plant.group == 'trt2')]"
   ]
  },
  {
   "cell_type": "code",
   "execution_count": 26,
   "id": "89072881",
   "metadata": {},
   "outputs": [
    {
     "data": {
      "text/plain": [
       "F_onewayResult(statistic=4.846087862380136, pvalue=0.0159099583256229)"
      ]
     },
     "execution_count": 26,
     "metadata": {},
     "output_type": "execute_result"
    }
   ],
   "source": [
    "# Conduct an appropriate hypothesis test to see if there is evidence of a difference \n",
    "# between the three means (that is, the control and the two treatments). Use a significance level of alpha = 0.05.\n",
    "\n",
    "stats.f_oneway(ctrl['weight'], trt1['weight'], trt2['weight'])"
   ]
  },
  {
   "cell_type": "markdown",
   "id": "0cdc3071",
   "metadata": {},
   "source": [
    "### Result\n",
    "Since we have got a p value of 0.0159 and it is less than 0.05, we have sufficient evidence to reject the null hypothesis that there is a difference between the three means."
   ]
  },
  {
   "cell_type": "code",
   "execution_count": 27,
   "id": "6307770b",
   "metadata": {},
   "outputs": [
    {
     "data": {
      "image/png": "[encoded data removed]",
      "text/plain": [
       "<Figure size 640x480 with 1 Axes>"
      ]
     },
     "metadata": {},
     "output_type": "display_data"
    }
   ],
   "source": [
    "# Vizualization of why we rejected the H0.\n",
    "plt.hist(ctrl['weight'], alpha=0.7, label='ctrl');\n",
    "plt.hist(trt1['weight'], alpha=0.7, label='trt1');\n",
    "plt.hist(trt2['weight'], alpha=0.7, label='trt2');\n",
    "\n",
    "# Plot title and axis labels\n",
    "plt.title(\"Weight by groups\");\n",
    "plt.xlabel(\"Weight\");\n",
    "plt.ylabel(\"Frequency\");\n",
    "\n",
    "plt.legend(title='Groups');"
   ]
  },
  {
   "cell_type": "code",
   "execution_count": 28,
   "id": "2d1dabf1",
   "metadata": {},
   "outputs": [
    {
     "name": "stdout",
     "output_type": "stream",
     "text": [
      "Control mean:  weight    5.032\n",
      "dtype: float64\n",
      "Control treatment 1 mean:  weight    4.661\n",
      "dtype: float64\n",
      "Control treatment 2 mean:  weight    5.526\n",
      "dtype: float64\n"
     ]
    }
   ],
   "source": [
    "print('Control mean: ',ctrl.mean())\n",
    "print('Control treatment 1 mean: ',trt1.mean())\n",
    "print('Control treatment 2 mean: ',trt2.mean())"
   ]
  },
  {
   "cell_type": "markdown",
   "id": "59dbca6d",
   "metadata": {},
   "source": [
    "### Task 4:\n",
    "\n",
    "Load the trees dataset from the pydataset library. It contains measurements of the diameter, \n",
    "height and volume of timber in 31 felled black cherry trees. Note that the diameter (in inches) is \n",
    "labelled girth in the dataset. It is measured at 4 foot 6 inches above the ground.\n",
    "- Perform a correlation analysis between all numerical variables. Include and comment on the results of hypothesis tests for the population correlation coefficients between all three pairs of variables (you can use the pearsonr function from the scipy.stats library). \n",
    "- There is interest in estimating the volume of timber from trees using either the girth or the height of the trees, or both. Perform a regression analysis to decide which of the three possible models you would recommend using. Interpret your results and provide a short conclusion of your findings.\n",
    "\n",
    "Marks[25]"
   ]
  },
  {
   "cell_type": "code",
   "execution_count": 29,
   "id": "e78bddab",
   "metadata": {},
   "outputs": [
    {
     "data": {
      "text/html": [
       "<div>\n",
       "<style scoped>\n",
       "    .dataframe tbody tr th:only-of-type {\n",
       "        vertical-align: middle;\n",
       "    }\n",
       "\n",
       "    .dataframe tbody tr th {\n",
       "        vertical-align: top;\n",
       "    }\n",
       "\n",
       "    .dataframe thead th {\n",
       "        text-align: right;\n",
       "    }\n",
       "</style>\n",
       "<table border=\"1\" class=\"dataframe\">\n",
       "  <thead>\n",
       "    <tr style=\"text-align: right;\">\n",
       "      <th></th>\n",
       "      <th>Girth</th>\n",
       "      <th>Height</th>\n",
       "      <th>Volume</th>\n",
       "    </tr>\n",
       "  </thead>\n",
       "  <tbody>\n",
       "    <tr>\n",
       "      <th>1</th>\n",
       "      <td>8.3</td>\n",
       "      <td>70</td>\n",
       "      <td>10.3</td>\n",
       "    </tr>\n",
       "    <tr>\n",
       "      <th>2</th>\n",
       "      <td>8.6</td>\n",
       "      <td>65</td>\n",
       "      <td>10.3</td>\n",
       "    </tr>\n",
       "    <tr>\n",
       "      <th>3</th>\n",
       "      <td>8.8</td>\n",
       "      <td>63</td>\n",
       "      <td>10.2</td>\n",
       "    </tr>\n",
       "    <tr>\n",
       "      <th>4</th>\n",
       "      <td>10.5</td>\n",
       "      <td>72</td>\n",
       "      <td>16.4</td>\n",
       "    </tr>\n",
       "    <tr>\n",
       "      <th>5</th>\n",
       "      <td>10.7</td>\n",
       "      <td>81</td>\n",
       "      <td>18.8</td>\n",
       "    </tr>\n",
       "  </tbody>\n",
       "</table>\n",
       "</div>"
      ],
      "text/plain": [
       "   Girth  Height  Volume\n",
       "1    8.3      70    10.3\n",
       "2    8.6      65    10.3\n",
       "3    8.8      63    10.2\n",
       "4   10.5      72    16.4\n",
       "5   10.7      81    18.8"
      ]
     },
     "execution_count": 29,
     "metadata": {},
     "output_type": "execute_result"
    }
   ],
   "source": [
    "tr = data('trees') # Load the 'trees' data set from pydataset\n",
    "tr.head()"
   ]
  },
  {
   "cell_type": "code",
   "execution_count": 30,
   "id": "cbc61017",
   "metadata": {},
   "outputs": [
    {
     "data": {
      "text/plain": [
       "(31, 3)"
      ]
     },
     "execution_count": 30,
     "metadata": {},
     "output_type": "execute_result"
    }
   ],
   "source": [
    "tr.shape"
   ]
  },
  {
   "cell_type": "code",
   "execution_count": 31,
   "id": "835d3919",
   "metadata": {},
   "outputs": [
    {
     "name": "stdout",
     "output_type": "stream",
     "text": [
      "<class 'pandas.core.frame.DataFrame'>\n",
      "Int64Index: 31 entries, 1 to 31\n",
      "Data columns (total 3 columns):\n",
      " #   Column  Non-Null Count  Dtype  \n",
      "---  ------  --------------  -----  \n",
      " 0   Girth   31 non-null     float64\n",
      " 1   Height  31 non-null     int64  \n",
      " 2   Volume  31 non-null     float64\n",
      "dtypes: float64(2), int64(1)\n",
      "memory usage: 992.0 bytes\n"
     ]
    }
   ],
   "source": [
    "tr.info()"
   ]
  },
  {
   "cell_type": "code",
   "execution_count": 32,
   "id": "b54dcfaf",
   "metadata": {},
   "outputs": [
    {
     "data": {
      "text/html": [
       "<div>\n",
       "<style scoped>\n",
       "    .dataframe tbody tr th:only-of-type {\n",
       "        vertical-align: middle;\n",
       "    }\n",
       "\n",
       "    .dataframe tbody tr th {\n",
       "        vertical-align: top;\n",
       "    }\n",
       "\n",
       "    .dataframe thead th {\n",
       "        text-align: right;\n",
       "    }\n",
       "</style>\n",
       "<table border=\"1\" class=\"dataframe\">\n",
       "  <thead>\n",
       "    <tr style=\"text-align: right;\">\n",
       "      <th></th>\n",
       "      <th>Girth</th>\n",
       "      <th>Height</th>\n",
       "      <th>Volume</th>\n",
       "    </tr>\n",
       "  </thead>\n",
       "  <tbody>\n",
       "    <tr>\n",
       "      <th>count</th>\n",
       "      <td>31.000000</td>\n",
       "      <td>31.000000</td>\n",
       "      <td>31.000000</td>\n",
       "    </tr>\n",
       "    <tr>\n",
       "      <th>mean</th>\n",
       "      <td>13.248387</td>\n",
       "      <td>76.000000</td>\n",
       "      <td>30.170968</td>\n",
       "    </tr>\n",
       "    <tr>\n",
       "      <th>std</th>\n",
       "      <td>3.138139</td>\n",
       "      <td>6.371813</td>\n",
       "      <td>16.437846</td>\n",
       "    </tr>\n",
       "    <tr>\n",
       "      <th>min</th>\n",
       "      <td>8.300000</td>\n",
       "      <td>63.000000</td>\n",
       "      <td>10.200000</td>\n",
       "    </tr>\n",
       "    <tr>\n",
       "      <th>25%</th>\n",
       "      <td>11.050000</td>\n",
       "      <td>72.000000</td>\n",
       "      <td>19.400000</td>\n",
       "    </tr>\n",
       "    <tr>\n",
       "      <th>50%</th>\n",
       "      <td>12.900000</td>\n",
       "      <td>76.000000</td>\n",
       "      <td>24.200000</td>\n",
       "    </tr>\n",
       "    <tr>\n",
       "      <th>75%</th>\n",
       "      <td>15.250000</td>\n",
       "      <td>80.000000</td>\n",
       "      <td>37.300000</td>\n",
       "    </tr>\n",
       "    <tr>\n",
       "      <th>max</th>\n",
       "      <td>20.600000</td>\n",
       "      <td>87.000000</td>\n",
       "      <td>77.000000</td>\n",
       "    </tr>\n",
       "  </tbody>\n",
       "</table>\n",
       "</div>"
      ],
      "text/plain": [
       "           Girth     Height     Volume\n",
       "count  31.000000  31.000000  31.000000\n",
       "mean   13.248387  76.000000  30.170968\n",
       "std     3.138139   6.371813  16.437846\n",
       "min     8.300000  63.000000  10.200000\n",
       "25%    11.050000  72.000000  19.400000\n",
       "50%    12.900000  76.000000  24.200000\n",
       "75%    15.250000  80.000000  37.300000\n",
       "max    20.600000  87.000000  77.000000"
      ]
     },
     "execution_count": 32,
     "metadata": {},
     "output_type": "execute_result"
    }
   ],
   "source": [
    "tr.describe()"
   ]
  },
  {
   "cell_type": "code",
   "execution_count": 33,
   "id": "1847cc0f",
   "metadata": {},
   "outputs": [
    {
     "data": {
      "text/plain": [
       "Girth     0.0\n",
       "Height    0.0\n",
       "Volume    0.0\n",
       "dtype: float64"
      ]
     },
     "execution_count": 33,
     "metadata": {},
     "output_type": "execute_result"
    }
   ],
   "source": [
    "tr.isnull().mean()*100 # Porcentage of missing data"
   ]
  },
  {
   "cell_type": "code",
   "execution_count": 34,
   "id": "8b44d798",
   "metadata": {},
   "outputs": [],
   "source": [
    "# Correlation analysis between features\n",
    "# Spltting our features\n",
    "gir = tr['Girth']\n",
    "hei = tr['Height']\n",
    "vol = tr['Volume']"
   ]
  },
  {
   "cell_type": "code",
   "execution_count": 35,
   "id": "9ffd0a29",
   "metadata": {},
   "outputs": [
    {
     "name": "stdout",
     "output_type": "stream",
     "text": [
      "Correlation Girth - Height:  0.5192800719499373\n"
     ]
    }
   ],
   "source": [
    "corr, val = pearsonr (gir, hei)\n",
    "print('Correlation Girth - Height: ', corr)"
   ]
  },
  {
   "cell_type": "code",
   "execution_count": 36,
   "id": "22fcc0bd",
   "metadata": {},
   "outputs": [
    {
     "name": "stdout",
     "output_type": "stream",
     "text": [
      "Correlation Girth - Volume:  0.9671193682556305\n"
     ]
    }
   ],
   "source": [
    "corr, val = pearsonr (gir, vol)\n",
    "print('Correlation Girth - Volume: ', corr)"
   ]
  },
  {
   "cell_type": "code",
   "execution_count": 37,
   "id": "def8b976",
   "metadata": {},
   "outputs": [
    {
     "name": "stdout",
     "output_type": "stream",
     "text": [
      "Correlation Height - Volume:  0.5982496519917823\n"
     ]
    }
   ],
   "source": [
    "corr, val = pearsonr (hei, vol)\n",
    "print('Correlation Height - Volume: ', corr)"
   ]
  },
  {
   "cell_type": "code",
   "execution_count": 45,
   "id": "5bec10f9",
   "metadata": {},
   "outputs": [
    {
     "data": {
      "text/plain": [
       "[<matplotlib.lines.Line2D at 0x2b12736e4d0>]"
      ]
     },
     "execution_count": 45,
     "metadata": {},
     "output_type": "execute_result"
    },
    {
     "data": {
      "image/png": "[encoded data removed]",
      "text/plain": [
       "<Figure size 640x480 with 1 Axes>"
      ]
     },
     "metadata": {},
     "output_type": "display_data"
    }
   ],
   "source": [
    "# Construct all parameters to perform a regression analysis (Girth)\n",
    "\n",
    "plt.plot(gir, vol, 'o')\n",
    "\n",
    "# obtain m (slope) and b (intercept) of linear regression line\n",
    "m, b = np.polyfit(gir, vol, 1)\n",
    "\n",
    "# regression line to the plot\n",
    "\n",
    "plt.plot(gir, m*gir+b)\n"
   ]
  },
  {
   "cell_type": "code",
   "execution_count": 46,
   "id": "94c690ae",
   "metadata": {},
   "outputs": [
    {
     "data": {
      "text/plain": [
       "[<matplotlib.lines.Line2D at 0x2b1273b18d0>]"
      ]
     },
     "execution_count": 46,
     "metadata": {},
     "output_type": "execute_result"
    },
    {
     "data": {
      "image/png": "[encoded data removed]",
      "text/plain": [
       "<Figure size 640x480 with 1 Axes>"
      ]
     },
     "metadata": {},
     "output_type": "display_data"
    }
   ],
   "source": [
    "# Construct all parameters to perform a regression analysis (Height)\n",
    "\n",
    "plt.plot(hei, vol, 'o')\n",
    "\n",
    "# obtain m (slope) and b (intercept) of linear regression line\n",
    "m, b = np.polyfit(hei, vol, 1)\n",
    "\n",
    "# regression line to the plot\n",
    "\n",
    "plt.plot(hei, m*hei+b)\n"
   ]
  },
  {
   "cell_type": "markdown",
   "id": "da58a26b",
   "metadata": {},
   "source": [
    "### Results\n",
    "\n",
    "As we can observe, from our correlation analysis and plots, we are able to say that the Girth - Volume model will be the best model to use, since it has a correlation of 0.967 and has the best regression line for this data in particular.\n"
   ]
  },
  {
   "cell_type": "code",
   "execution_count": null,
   "id": "1ccef0a2",
   "metadata": {},
   "outputs": [],
   "source": []
  }
 ],
 "metadata": {
  "kernelspec": {
   "display_name": "Python 3 (ipykernel)",
   "language": "python",
   "name": "python3"
  },
  "language_info": {
   "codemirror_mode": {
    "name": "ipython",
    "version": 3
   },
   "file_extension": ".py",
   "mimetype": "text/x-python",
   "name": "python",
   "nbconvert_exporter": "python",
   "pygments_lexer": "ipython3",
   "version": "3.11.4"
  }
 },
 "nbformat": 4,
 "nbformat_minor": 5
}

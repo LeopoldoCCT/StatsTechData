{
 "cells": [
  {
   "cell_type": "markdown",
   "id": "28de9089",
   "metadata": {},
   "source": [
    "## StatsTechData_CA2"
   ]
  },
  {
   "cell_type": "markdown",
   "id": "965e79ee",
   "metadata": {},
   "source": [
    "### Task 1:\n",
    "Load the dataset Q1.csv. It contains the exam scores (in percentages) of a sample of 50 students from a Dublin secondary school. \n",
    "- Find and comment on important summary statistics and produce an appropriate plot to summarise the dataset. \n",
    "- One of the teachers is concerned about the performance of the students in the school. She suspects that their performance may be below the reported national average of 70%. Does the data show that her concerns are justified? Use a significance level of alpha = 0.05. \n",
    "- Produce and comment on an appropriate plot to illustrate your findings. \n",
    "\n",
    "Marks[25]\n"
   ]
  },
  {
   "cell_type": "code",
   "execution_count": null,
   "id": "e420e92f",
   "metadata": {},
   "outputs": [],
   "source": []
  },
  {
   "cell_type": "code",
   "execution_count": null,
   "id": "0288bcf2",
   "metadata": {},
   "outputs": [],
   "source": []
  },
  {
   "cell_type": "markdown",
   "id": "34306bb5",
   "metadata": {},
   "source": [
    "### Task 2:\n",
    "\n",
    "Load the diamonds dataset, and print the first 5 rows. The color variable refers to the colour of the \n",
    "diamond, with categories from “D” to “J”. Colourless diamonds are considered better than \n",
    "diamonds with a yellow tint. Diamonds from “D” to “F” are considered colourless, and diamonds \n",
    "from colour “G” to “J” are not considered colourless (that is, they have a very faint colour).\n",
    "\n",
    "- Create a new binary variable in the dataframe called “colourless” which records 1 in rows with colourless diamonds and 0 otherwise.\n",
    "- Perform an appropriate hypothesis test to determine whether there is any association between the clarity of a diamond and whether it is colourless or not. Use a significance level of alpha = 0.01.\n",
    "- Produce and comment on an appropriate plot to illustrate your findings. \n",
    "- Find and interpret 90% confidence intervals for both the mean price of colourless diamonds and the mean price of non-colourless diamonds. \n",
    "\n",
    "Marks[25]\n"
   ]
  },
  {
   "cell_type": "code",
   "execution_count": null,
   "id": "a4e9cf6e",
   "metadata": {},
   "outputs": [],
   "source": []
  },
  {
   "cell_type": "code",
   "execution_count": null,
   "id": "71a5db61",
   "metadata": {},
   "outputs": [],
   "source": []
  },
  {
   "cell_type": "markdown",
   "id": "1cd78026",
   "metadata": {},
   "source": [
    "### Task 3:\n",
    "\n",
    "Load the PlantGrowth dataset from the pydataset library. It contains the results of a small study \n",
    "comparing the yields of plants obtained under a control and under two different treatment \n",
    "conditions.\n",
    "- Find and comment on important summary statistics by treatment and produce an appropriate plot to summarise the dataset.\n",
    "- Conduct an appropriate hypothesis test to see if there is evidence of a difference between the three means (that is, the control and the two treatments). Use a significance level of alpha = 0.05. \n",
    "- If there is evidence of a difference between the three means, find and comment on where this difference may be.\n",
    "\n",
    "Marks[25]"
   ]
  },
  {
   "cell_type": "code",
   "execution_count": null,
   "id": "44803707",
   "metadata": {},
   "outputs": [],
   "source": []
  },
  {
   "cell_type": "code",
   "execution_count": null,
   "id": "0f90f5e4",
   "metadata": {},
   "outputs": [],
   "source": []
  },
  {
   "cell_type": "markdown",
   "id": "de7e7225",
   "metadata": {},
   "source": [
    "### Task 4:\n",
    "\n",
    "Load the trees dataset from the pydataset library. It contains measurements of the diameter, \n",
    "height and volume of timber in 31 felled black cherry trees. Note that the diameter (in inches) is \n",
    "labelled girth in the dataset. It is measured at 4 foot 6 inches above the ground.\n",
    "- Perform a correlation analysis between all numerical variables. Include and comment on the results of hypothesis tests for the population correlation coefficients between all three pairs of variables (you can use the pearsonr function from the scipy.stats library). \n",
    "- There is interest in estimating the volume of timber from trees using either the girth or the height of the trees, or both. Perform a regression analysis to decide which of the three possible models you would recommend using. Interpret your results and provide a short conclusion of your findings.\n",
    "\n",
    "Marks[25]"
   ]
  },
  {
   "cell_type": "code",
   "execution_count": null,
   "id": "6642ebf5",
   "metadata": {},
   "outputs": [],
   "source": []
  },
  {
   "cell_type": "code",
   "execution_count": null,
   "id": "9687dd30",
   "metadata": {},
   "outputs": [],
   "source": []
  }
 ],
 "metadata": {
  "kernelspec": {
   "display_name": "Python 3 (ipykernel)",
   "language": "python",
   "name": "python3"
  },
  "language_info": {
   "codemirror_mode": {
    "name": "ipython",
    "version": 3
   },
   "file_extension": ".py",
   "mimetype": "text/x-python",
   "name": "python",
   "nbconvert_exporter": "python",
   "pygments_lexer": "ipython3",
   "version": "3.11.4"
  }
 },
 "nbformat": 4,
 "nbformat_minor": 5
}
